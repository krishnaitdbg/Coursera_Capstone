{
 "cells": [
  {
   "cell_type": "markdown",
   "metadata": {},
   "source": [
    "# Capstone Project - Los Angeles Motor Traffic Collisions during Year 2018 (Week 1)\n",
    "### IBM professional Data Science Capstone by IBM/Coursera"
   ]
  },
  {
   "cell_type": "markdown",
   "metadata": {},
   "source": [
    "## Introduction: Problem <a name=\"introduction\"></a>"
   ]
  },
  {
   "cell_type": "markdown",
   "metadata": {},
   "source": [
    "In this use case, lets analyze Los Angeles traffic collision data and identify & cluster similar venue categories near to the collision locations. So that LA Dept of Transportation authorities can better understand the public needs and plan accordingly to ease up traffic congestions in each locality around the popular venues, which will help in minimizing the traffic collision rates.\n",
    "\n",
    "**Background**\n",
    "\n",
    "\n",
    "Los Angeles has one of the highest motor collision rate among United States metropolitan cities. \n",
    "\n",
    "Los Angeles traffic congestion is also rated as one of the highest in United States and probably in the world. \n",
    "Even though, LA has mass public transport system including public buses, light Rail and subway, ridership rates \n",
    "are decreasing annually and residents are taking on to roads to move around the city, which is resulting in high \n",
    "fatality collision rates. \n",
    "\n",
    "There are several contributing factors for high collision rates like increasing population rates, aging public transit infrastructure, increasing economy, popular venues or events etc.     \n",
    "\n",
    "Popular venues may inadverently contributes to traffic congestions and collisions. Popular venues includes music arenas, parks, cafes, yoga studios etc. Analyzing venues near to collision locations helps in understanding traffic footnote and public needs. Thus helping LA Dept of Transportation to plan better in order to ease up congestions and minimize collisions."
   ]
  },
  {
   "cell_type": "markdown",
   "metadata": {},
   "source": [
    "## Data <a name=\"data\"></a>"
   ]
  },
  {
   "cell_type": "markdown",
   "metadata": {},
   "source": [
    "**Following are the data sources:**\n",
    "* Under open data policy, **LAPD** (Los Angeles Police Department) collects and regularly updates \n",
    "  Los Angeles traffic collision data every week.\n",
    "* Los Angeles traffic collision data is provided in LA city open data website.\n",
    "  https://data.lacity.org/A-Safe-City/Traffic-Collision-Data-from-2010-to-Present/d5tf-ez2w\n",
    "* Los Angeles Police Department reporting divisions geo location data is provided in LA city open data website.  \n",
    "  https://geohub.lacity.org/datasets/031d488e158144d0b3aecaa9c888b7b3_0/data\n",
    "* Venues and venue categories data wil be obained from **Foursquare API** using their APIs.\n",
    "\n",
    "\n",
    "**Following are the observations made about the collision data provided to the public:**\n",
    "* Los Angeles traffic collision data is provided from year 2010 to till current date.\n",
    "* Data is provided in various formats like csv, json (via api) etc.\n",
    "* Provided data is sanitized to scrub all PII (personally identifiable information).\n",
    "* Geo location coordinates are provided for all collisions.\n",
    "\n",
    "**Data Consumption is done the following way:**\n",
    "* Los Angeles traffic collision data will be read in csv format.\n",
    "* Los Angeles police reporting divisions data will be read in geojson format.\n",
    "* Foursquare Venue exploration data will be read in json format.\n",
    "\n",
    "**Data Usage is done the following way:**\n",
    "* Los Angeles traffic collision data for year 2018 will be used to analyze the collisions.\n",
    "* Collision geo location coordinates will be used as input to obtain nearby venue data from Foursquare.\n",
    "* Obtained Foursquare venue data will be used to cluster collision locations \n",
    "* LAPD reporting divisions geo json data will be used for choropleth maps."
   ]
  },
  {
   "cell_type": "code",
   "execution_count": null,
   "metadata": {},
   "outputs": [],
   "source": []
  }
 ],
 "metadata": {
  "kernelspec": {
   "display_name": "Python 3",
   "language": "python",
   "name": "python3"
  },
  "language_info": {
   "codemirror_mode": {
    "name": "ipython",
    "version": 3
   },
   "file_extension": ".py",
   "mimetype": "text/x-python",
   "name": "python",
   "nbconvert_exporter": "python",
   "pygments_lexer": "ipython3",
   "version": "3.7.3"
  }
 },
 "nbformat": 4,
 "nbformat_minor": 2
}
